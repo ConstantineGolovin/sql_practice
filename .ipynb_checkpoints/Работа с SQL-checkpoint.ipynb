{
 "cells": [
  {
   "cell_type": "markdown",
   "id": "13ad5439-b5f4-4d6c-b01f-fa3c3f7c57ee",
   "metadata": {},
   "source": [
    "# Таблица SQL\n",
    "\n",
    "|id|title|director|year|length_minutes|\n",
    "| ----------| --------- | --------- | --------- | --------- |\n",
    "|1|Toy Story|John Lasseter|1995|81|\n",
    "|2|A Bug's Life|\tJohn Lasseter|1998|\t95|\n",
    "|3|Toy Story 2|\tJohn Lasseter|\t1999|\t93|\n",
    "|4|\tMonsters, Inc.|\tPete Docter|\t2001|\t92|\n",
    "|5|\tFinding Nemo|\tAndrew Stanton|\t2003|\t107|\n",
    "|6|\tThe Incredibles|\tBrad Bird|\t2004|\t116|\n",
    "|7|\tCars|\tJohn Lasseter|\t2006|\t117|\n",
    "|8|\tRatatouille|\tBrad Bird|\t2007|\t115|\n",
    "|9|\tWALL-E|\tAndrew Stanton|\t2008|\t104|\n",
    "|10|\tUp|\tPete Docter|\t2009|\t101|\n",
    "|11|\tToy Story 3|\tLee Unkrich|\t2010|\t103|\n",
    "|12|\tCars 2|\tJohn Lasseter|\t2011|\t120|\n",
    "|13|\tBrave|\tBrenda Chapman|\t2012|\t102|\n",
    "|14|\tMonsters University|\tDan Scanlon|\t2013|\t110|\n",
    "|87|\tWALL-G|\tBrenda Chapman|\t2042|\t97|\n",
    "\n",
    "    "
   ]
  },
  {
   "cell_type": "markdown",
   "id": "5630c09f-ed0e-438d-817e-edb585cd2dd7",
   "metadata": {},
   "source": [
    "Find all the Toy Story movies<br>\n",
    "Find all the movies directed by John Lasseter<br>\n",
    "Find all the movies (and director) not directed by John Lasseter<br>\n",
    "Find all the WALL-* movies"
   ]
  },
  {
   "cell_type": "code",
   "execution_count": 3,
   "id": "3c805d35-2fe8-41ae-8bd6-edd3c11be3b7",
   "metadata": {},
   "outputs": [
    {
     "ename": "SyntaxError",
     "evalue": "invalid syntax (758976023.py, line 1)",
     "output_type": "error",
     "traceback": [
      "\u001b[0;36m  Cell \u001b[0;32mIn[3], line 1\u001b[0;36m\u001b[0m\n\u001b[0;31m    SELECT * FROM movies WHERE title LIKE \"Toy Story%\"\u001b[0m\n\u001b[0m                  ^\u001b[0m\n\u001b[0;31mSyntaxError\u001b[0m\u001b[0;31m:\u001b[0m invalid syntax\n"
     ]
    }
   ],
   "source": [
    "SELECT * FROM movies WHERE title LIKE \"Toy Story%\""
   ]
  },
  {
   "cell_type": "code",
   "execution_count": 1,
   "id": "89b2c8c6",
   "metadata": {},
   "outputs": [
    {
     "ename": "SyntaxError",
     "evalue": "invalid syntax (1535733624.py, line 1)",
     "output_type": "error",
     "traceback": [
      "\u001b[0;36m  Cell \u001b[0;32mIn[1], line 1\u001b[0;36m\u001b[0m\n\u001b[0;31m    SELECT * FROM movies WHERE director LIKE \"John Lasseter\"\u001b[0m\n\u001b[0m                  ^\u001b[0m\n\u001b[0;31mSyntaxError\u001b[0m\u001b[0;31m:\u001b[0m invalid syntax\n"
     ]
    }
   ],
   "source": [
    "SELECT * FROM movies WHERE director LIKE \"John Lasseter\""
   ]
  },
  {
   "cell_type": "code",
   "execution_count": 2,
   "id": "a99db912",
   "metadata": {},
   "outputs": [
    {
     "ename": "SyntaxError",
     "evalue": "invalid syntax (4029348343.py, line 1)",
     "output_type": "error",
     "traceback": [
      "\u001b[0;36m  Cell \u001b[0;32mIn[2], line 1\u001b[0;36m\u001b[0m\n\u001b[0;31m    SELECT * FROM movies WHERE director NOT LIKE \"John Lasseter\"\u001b[0m\n\u001b[0m                  ^\u001b[0m\n\u001b[0;31mSyntaxError\u001b[0m\u001b[0;31m:\u001b[0m invalid syntax\n"
     ]
    }
   ],
   "source": [
    "SELECT * FROM movies WHERE director NOT LIKE \"John Lasseter\" "
   ]
  },
  {
   "cell_type": "code",
   "execution_count": null,
   "id": "90a4b94f",
   "metadata": {},
   "outputs": [],
   "source": [
    "SELECT * FROM movies WHERE title LIKE \"WALL-%\""
   ]
  },
  {
   "cell_type": "markdown",
   "id": "7adae621",
   "metadata": {},
   "source": [
    "## Exercise 4 — Tasks\n",
    "* List all directors of Pixar movies (alphabetically), without duplicates\n",
    "* List the last four Pixar movies released (ordered from most recent to least)\n",
    "* List the first five Pixar movies sorted alphabetically\n",
    "* List the next five Pixar movies sorted alphabetically"
   ]
  },
  {
   "cell_type": "code",
   "execution_count": null,
   "id": "2415f043",
   "metadata": {},
   "outputs": [],
   "source": [
    "SELECT DISTINCT director FROM movies ORDER BY director"
   ]
  },
  {
   "cell_type": "code",
   "execution_count": null,
   "id": "28a194f1",
   "metadata": {},
   "outputs": [],
   "source": [
    "SELECT * FROM movies ORDER BY year DESC LIMIT 4"
   ]
  },
  {
   "cell_type": "code",
   "execution_count": null,
   "id": "0e331a85",
   "metadata": {},
   "outputs": [],
   "source": [
    "SELECT * FROM movies ORDER BY title LIMIT 5"
   ]
  },
  {
   "cell_type": "code",
   "execution_count": null,
   "id": "eaca8bf5",
   "metadata": {},
   "outputs": [],
   "source": [
    "SELECT * FROM movies ORDER BY title LIMIT 5 OFFSET 5"
   ]
  },
  {
   "cell_type": "code",
   "execution_count": null,
   "id": "2b9219ee",
   "metadata": {},
   "outputs": [],
   "source": []
  }
 ],
 "metadata": {
  "kernelspec": {
   "display_name": "Python 3 (ipykernel)",
   "language": "python",
   "name": "python3"
  },
  "language_info": {
   "codemirror_mode": {
    "name": "ipython",
    "version": 3
   },
   "file_extension": ".py",
   "mimetype": "text/x-python",
   "name": "python",
   "nbconvert_exporter": "python",
   "pygments_lexer": "ipython3",
   "version": "3.13.3"
  }
 },
 "nbformat": 4,
 "nbformat_minor": 5
}
