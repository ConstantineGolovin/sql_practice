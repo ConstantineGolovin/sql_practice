{
 "cells": [
  {
   "cell_type": "markdown",
   "id": "13ad5439-b5f4-4d6c-b01f-fa3c3f7c57ee",
   "metadata": {},
   "source": [
    "# Таблица SQL\n",
    "\n",
    "|id|title|director|year|length_minutes|\n",
    "| ----------| --------- | --------- | --------- | --------- |\n",
    "|1|Toy Story|John Lasseter|1995|81|\n",
    "|2|A Bug's Life|\tJohn Lasseter|1998|\t95|\n",
    "|3|Toy Story 2|\tJohn Lasseter|\t1999|\t93|\n",
    "|4|\tMonsters, Inc.|\tPete Docter|\t2001|\t92|\n",
    "|5|\tFinding Nemo|\tAndrew Stanton|\t2003|\t107|\n",
    "|6|\tThe Incredibles|\tBrad Bird|\t2004|\t116|\n",
    "|7|\tCars|\tJohn Lasseter|\t2006|\t117|\n",
    "|8|\tRatatouille|\tBrad Bird|\t2007|\t115|\n",
    "|9|\tWALL-E|\tAndrew Stanton|\t2008|\t104|\n",
    "|10|\tUp|\tPete Docter|\t2009|\t101|\n",
    "|11|\tToy Story 3|\tLee Unkrich|\t2010|\t103|\n",
    "|12|\tCars 2|\tJohn Lasseter|\t2011|\t120|\n",
    "|13|\tBrave|\tBrenda Chapman|\t2012|\t102|\n",
    "|14|\tMonsters University|\tDan Scanlon|\t2013|\t110|\n",
    "|87|\tWALL-G|\tBrenda Chapman|\t2042|\t97|\n",
    "\n",
    "    "
   ]
  },
  {
   "cell_type": "markdown",
   "id": "5630c09f-ed0e-438d-817e-edb585cd2dd7",
   "metadata": {},
   "source": [
    "## Exercise 4 — Tasks\n",
    "\n",
    "* Find all the Toy Story movies<br>\n",
    "* Find all the movies directed by John Lasseter<br>\n",
    "* Find all the movies (and director) not directed by John Lasseter<br>\n",
    "* Find all the WALL-* movies"
   ]
  },
  {
   "cell_type": "code",
   "execution_count": null,
   "id": "74cbd185",
   "metadata": {},
   "outputs": [],
   "source": [
    "SELECT * FROM movies WHERE title LIKE \"Toy Story%\""
   ]
  },
  {
   "cell_type": "code",
   "execution_count": null,
   "id": "4ade4358",
   "metadata": {},
   "outputs": [],
   "source": [
    "SELECT * FROM movies WHERE director LIKE \"John Lasseter\""
   ]
  },
  {
   "cell_type": "code",
   "execution_count": null,
   "id": "674985ba",
   "metadata": {},
   "outputs": [],
   "source": [
    "SELECT * FROM movies WHERE director NOT LIKE \"John Lasseter\" "
   ]
  },
  {
   "cell_type": "code",
   "execution_count": null,
   "id": "90a4b94f",
   "metadata": {},
   "outputs": [],
   "source": [
    "SELECT * FROM movies WHERE title LIKE \"WALL-%\""
   ]
  },
  {
   "cell_type": "markdown",
   "id": "7adae621",
   "metadata": {},
   "source": [
    "## Exercise 4 — Tasks\n",
    "* List all directors of Pixar movies (alphabetically), without duplicates\n",
    "* List the last four Pixar movies released (ordered from most recent to least)\n",
    "* List the first five Pixar movies sorted alphabetically\n",
    "* List the next five Pixar movies sorted alphabetically"
   ]
  },
  {
   "cell_type": "code",
   "execution_count": null,
   "id": "2415f043",
   "metadata": {},
   "outputs": [],
   "source": [
    "SELECT DISTINCT director FROM movies ORDER BY director"
   ]
  },
  {
   "cell_type": "code",
   "execution_count": null,
   "id": "28a194f1",
   "metadata": {},
   "outputs": [],
   "source": [
    "SELECT * FROM movies ORDER BY year DESC LIMIT 4"
   ]
  },
  {
   "cell_type": "code",
   "execution_count": null,
   "id": "0e331a85",
   "metadata": {},
   "outputs": [],
   "source": [
    "SELECT * FROM movies ORDER BY title LIMIT 5"
   ]
  },
  {
   "cell_type": "code",
   "execution_count": null,
   "id": "eaca8bf5",
   "metadata": {},
   "outputs": [],
   "source": [
    "SELECT * FROM movies ORDER BY title LIMIT 5 OFFSET 5"
   ]
  },
  {
   "cell_type": "markdown",
   "id": "0b7357db",
   "metadata": {},
   "source": [
    "|City|Country\t|Population\t|Latitude\t|Longitude|\n",
    "|---|---|---|---|---|\n",
    "|Guadalajara|\tMexico|\t1500800|\t20.659699|\t-103.349609|\n",
    "|Toronto|\tCanada|\t2795060|\t43.653226|\t-79.383184|\n",
    "|Houston|\tUnited States|\t2195914|\t29.760427|\t-95.369803|\n",
    "|New York|\tUnited States|\t8405837|\t40.712784|\t-74.005941|\n",
    "|Philadelphia|\tUnited States|\t1553165|\t39.952584|\t-75.165222|\n",
    "|Havana|\tCuba|\t2106146|\t23.05407|\t-82.345189|\n",
    "|Mexico City|\tMexico|\t8555500|\t19.432608|\t-99.133208|\n",
    "|Phoenix|\tUnited States|\t1513367|\t33.448377|\t-112.074037|\n",
    "|Los Angeles|\tUnited States|\t3884307|\t34.052234|\t-118.243685|\n",
    "|Ecatepec de Morelos|\tMexico|\t1742000|\t19.601841|\t-99.050674|\n",
    "|Montreal|\tCanada|\t1717767|\t45.501689|\t-73.567256|\n",
    "|Chicago|\tUnited States|\t2718782|\t41.878114|\t-87.629798|"
   ]
  },
  {
   "cell_type": "markdown",
   "id": "ee402154",
   "metadata": {},
   "source": [
    "## Exercise 4 — Tasks\n",
    "\n",
    "* List all the Canadian cities and their populations \n",
    "* Order all the cities in the United States by their latitude from north to south\n",
    "* List all the cities west of Chicago, ordered from west to east\n",
    "* List the two largest cities in Mexico (by population)\n",
    "* List the third and fourth largest cities (by population) in the United States and their population"
   ]
  },
  {
   "cell_type": "code",
   "execution_count": null,
   "id": "61354118",
   "metadata": {},
   "outputs": [],
   "source": [
    "SELECT City, population FROM north_american_cities WHERE Country = \"Canada\""
   ]
  },
  {
   "cell_type": "code",
   "execution_count": null,
   "id": "3a782b93",
   "metadata": {},
   "outputs": [],
   "source": [
    "SELECT * FROM north_american_cities WHERE Country = \"United States\" ORDER BY Latitude DESC"
   ]
  },
  {
   "cell_type": "code",
   "execution_count": null,
   "id": "89b0ef92",
   "metadata": {},
   "outputs": [],
   "source": [
    "SELECT City FROM north_american_cities WHERE Longitude < -87.629798   ORDER BY Longitude"
   ]
  },
  {
   "cell_type": "code",
   "execution_count": null,
   "id": "8a7a7945",
   "metadata": {},
   "outputs": [],
   "source": [
    "SELECT City FROM north_american_cities WHERE Country = \"Mexico\" ORDER BY Population DESC LIMIT 2   "
   ]
  },
  {
   "cell_type": "code",
   "execution_count": null,
   "id": "f218975c",
   "metadata": {},
   "outputs": [],
   "source": [
    "SELECT City, Population FROM north_american_cities WHERE Country = \"United States\" ORDER BY Population DESC LIMIT 2 OFFSET 2 "
   ]
  }
 ],
 "metadata": {
  "kernelspec": {
   "display_name": "Python 3 (ipykernel)",
   "language": "python",
   "name": "python3"
  },
  "language_info": {
   "codemirror_mode": {
    "name": "ipython",
    "version": 3
   },
   "file_extension": ".py",
   "mimetype": "text/x-python",
   "name": "python",
   "nbconvert_exporter": "python",
   "pygments_lexer": "ipython3",
   "version": "3.13.3"
  }
 },
 "nbformat": 4,
 "nbformat_minor": 5
}
